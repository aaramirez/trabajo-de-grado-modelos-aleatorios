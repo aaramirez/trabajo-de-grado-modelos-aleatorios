{
 "cells": [
  {
   "cell_type": "markdown",
   "metadata": {},
   "source": [
    "# MNIST en Keras\n",
    "\n",
    "Partiendo de la base de datos MNIST de imágenes de dígitos escritos a mano, vamos a realizar el ajuste de una Red Neuronal Convolucional utilizando la librería Keras. El proceso se realizará en varios pasos:\n",
    "\n",
    "- Incluir librerías y definir parámetros.\n",
    "- Cargar los datos.\n",
    "- Ajustar los datos.\n",
    "- Definir el modelo en Keras.\n",
    "- Ajustar el modelo.\n",
    "- Evaluar el modelo.\n",
    "\n",
    "Adicionalmente vamos crear la matriz de confusión.\n",
    "\n",
    "Finalmente vamos a revisar algunas particularidades con los datos."
   ]
  },
  {
   "cell_type": "markdown",
   "metadata": {},
   "source": [
    "## Inclusión de librerías\n",
    "\n",
    "Principalmente se incluye [keras](https://keras.io/) y desde keras se pueden cargar los datos MNIST directamente. Vamos a utilizar [scikit learn](https://scikit-learn.org/) para hacer la matriz de confusión y [matplotlib](https://matplotlib.org) para realizar los gráficos."
   ]
  },
  {
   "cell_type": "code",
   "execution_count": 1,
   "metadata": {},
   "outputs": [
    {
     "name": "stderr",
     "output_type": "stream",
     "text": [
      "Using TensorFlow backend.\n"
     ]
    }
   ],
   "source": [
    "import keras\n",
    "from keras.datasets import mnist\n",
    "from keras.models import Sequential\n",
    "from keras.layers import Dense, Dropout, Flatten\n",
    "from keras.layers import Conv2D, MaxPooling2D\n",
    "from keras import backend as K\n",
    "\n",
    "from keras.models import load_model\n",
    "\n",
    "from sklearn import metrics\n",
    "\n",
    "import numpy as np\n",
    "from matplotlib import pyplot as plt\n",
    "%matplotlib inline"
   ]
  },
  {
   "cell_type": "markdown",
   "metadata": {},
   "source": [
    "## Definición de parámetros\n",
    "\n",
    "- `batch_size` define el tamaño del lote para entrenar.\n",
    "- `num_classes` indica cuantas clases genera la clasificación.\n",
    "- `epochs` indica el número de vueltas completas que se hacen con el conjunto de datos de entrenamiento.\n",
    "- `img_rows`, `img_cols` indica el tamaño de las imágenes en pixeles."
   ]
  },
  {
   "cell_type": "code",
   "execution_count": 2,
   "metadata": {},
   "outputs": [],
   "source": [
    "batch_size = 128\n",
    "num_classes = 2\n",
    "epochs = 4\n",
    "\n",
    "# input image dimensions\n",
    "img_rows, img_cols = 28, 28"
   ]
  },
  {
   "cell_type": "markdown",
   "metadata": {},
   "source": [
    "## Obtención de los datos\n",
    "\n",
    "Los datos se obtienen con `mnist.load_data()` provisto por keras y se dividen en muestra de entrenamiento y prueba."
   ]
  },
  {
   "cell_type": "code",
   "execution_count": 110,
   "metadata": {},
   "outputs": [],
   "source": [
    "# Dividir los datos entre los datos de entrenamiento y prueba.\n",
    "(x_train, y_train), (x_test, y_test) = mnist.load_data()\n",
    "(x_data, y_data), (x_data_test, y_data_test) = mnist.load_data()\n",
    "\n",
    "if K.image_data_format() == 'channels_first':\n",
    "    x_train = x_train.reshape(x_train.shape[0], 1, img_rows, img_cols)\n",
    "    x_test = x_test.reshape(x_test.shape[0], 1, img_rows, img_cols)\n",
    "    input_shape = (1, img_rows, img_cols)\n",
    "else:\n",
    "    x_train = x_train.reshape(x_train.shape[0], img_rows, img_cols, 1)\n",
    "    x_test = x_test.reshape(x_test.shape[0], img_rows, img_cols, 1)\n",
    "    input_shape = (img_rows, img_cols, 1)"
   ]
  },
  {
   "cell_type": "markdown",
   "metadata": {},
   "source": [
    "## Normalización de los datos\n",
    "\n",
    "Los valores de las imágenes se pasan de una escala entre 0 y 1. Son 60 mil imágenes de entrenamiento y 10 mil de prueba de dimensión $28\\times 28$ en escala de grises y por eso es sólo 1 canal."
   ]
  },
  {
   "cell_type": "code",
   "execution_count": 111,
   "metadata": {},
   "outputs": [
    {
     "name": "stdout",
     "output_type": "stream",
     "text": [
      "('x_train shape:', (60000, 28, 28, 1))\n",
      "(60000, 'train samples')\n",
      "(10000, 'test samples')\n"
     ]
    }
   ],
   "source": [
    "x_train = x_train.astype('float32')\n",
    "x_test = x_test.astype('float32')\n",
    "x_train /= 255\n",
    "x_test /= 255\n",
    "print('x_train shape:', x_train.shape)\n",
    "print(x_train.shape[0], 'train samples')\n",
    "print(x_test.shape[0], 'test samples')"
   ]
  },
  {
   "cell_type": "markdown",
   "metadata": {},
   "source": [
    "### Rutina para dibujar un dígito\n",
    "\n",
    "Vamos a definir una rutina para dibujar la imagen de un dígito. Se va a utilizar para explorar los datos y verificar los resultados de la inferencia realizada por el modelo."
   ]
  },
  {
   "cell_type": "code",
   "execution_count": 5,
   "metadata": {},
   "outputs": [],
   "source": [
    "def plot_image(data):\n",
    "    image = data\n",
    "    image = np.array(image, dtype='float')\n",
    "    pixels = image.reshape((28, 28))\n",
    "    plt.imshow(pixels, cmap='gray')\n",
    "    plt.show()"
   ]
  },
  {
   "cell_type": "markdown",
   "metadata": {},
   "source": [
    "Vamos a mostrar la imagen del primer dígito de la muestra de entrenamiento."
   ]
  },
  {
   "cell_type": "code",
   "execution_count": 6,
   "metadata": {},
   "outputs": [
    {
     "data": {
      "image/png": "[encoded data removed]",
      "text/plain": [
       "<Figure size 432x288 with 1 Axes>"
      ]
     },
     "metadata": {
      "needs_background": "light"
     },
     "output_type": "display_data"
    }
   ],
   "source": [
    "plot_image(x_train[0])"
   ]
  },
  {
   "cell_type": "markdown",
   "metadata": {},
   "source": [
    "Ahora vamos a ver el valor del resultado observado en el primer dígito de la muestra de entrenamiento. "
   ]
  },
  {
   "cell_type": "code",
   "execution_count": 7,
   "metadata": {},
   "outputs": [
    {
     "data": {
      "text/plain": [
       "5"
      ]
     },
     "execution_count": 7,
     "metadata": {},
     "output_type": "execute_result"
    }
   ],
   "source": [
    "y_train[0]"
   ]
  },
  {
   "cell_type": "code",
   "execution_count": 8,
   "metadata": {},
   "outputs": [],
   "source": [
    "def create_set(data, digit):\n",
    "    result = np.where(data==digit, 10, data)\n",
    "    rest_of_digits = range(10)\n",
    "    rest_of_digits.remove(digit)\n",
    "    for i in rest_of_digits:\n",
    "        result = np.where(result==i, 0, result)\n",
    "        \n",
    "    result = np.where(result==10, 1, result) \n",
    "    return result"
   ]
  },
  {
   "cell_type": "code",
   "execution_count": 9,
   "metadata": {},
   "outputs": [],
   "source": [
    "y_train0 = create_set(y_train, 0)\n",
    "y_test0 = create_set(y_test, 0)\n",
    "\n",
    "y_train1 = create_set(y_train, 1)\n",
    "y_test1 = create_set(y_test, 1)\n",
    "\n",
    "y_train2 = create_set(y_train, 2)\n",
    "y_test2 = create_set(y_test, 2)\n",
    "\n",
    "y_train3 = create_set(y_train, 3)\n",
    "y_test3 = create_set(y_test, 3)\n",
    "\n",
    "y_train4 = create_set(y_train, 4)\n",
    "y_test4 = create_set(y_test, 4)\n",
    "\n",
    "y_train5 = create_set(y_train, 5)\n",
    "y_test5 = create_set(y_test, 5)\n",
    "\n",
    "y_train6 = create_set(y_train, 6)\n",
    "y_test6 = create_set(y_test, 6)\n",
    "\n",
    "y_train7 = create_set(y_train, 7)\n",
    "y_test7 = create_set(y_test, 7)\n",
    "\n",
    "y_train8 = create_set(y_train, 8)\n",
    "y_test8 = create_set(y_test, 8)\n",
    "\n",
    "y_train9 = create_set(y_train, 9)\n",
    "y_test9 = create_set(y_test, 9)"
   ]
  },
  {
   "cell_type": "code",
   "execution_count": 10,
   "metadata": {},
   "outputs": [
    {
     "data": {
      "text/plain": [
       "0"
      ]
     },
     "execution_count": 10,
     "metadata": {},
     "output_type": "execute_result"
    }
   ],
   "source": [
    "y_train0[0]"
   ]
  },
  {
   "cell_type": "code",
   "execution_count": 11,
   "metadata": {},
   "outputs": [
    {
     "data": {
      "image/png": "[encoded data removed]",
      "text/plain": [
       "<Figure size 432x288 with 1 Axes>"
      ]
     },
     "metadata": {
      "needs_background": "light"
     },
     "output_type": "display_data"
    }
   ],
   "source": [
    "plot_image(x_train[0])"
   ]
  },
  {
   "cell_type": "code",
   "execution_count": 12,
   "metadata": {},
   "outputs": [
    {
     "data": {
      "text/plain": [
       "1"
      ]
     },
     "execution_count": 12,
     "metadata": {},
     "output_type": "execute_result"
    }
   ],
   "source": [
    "y_train5[0]"
   ]
  },
  {
   "cell_type": "code",
   "execution_count": 13,
   "metadata": {},
   "outputs": [
    {
     "data": {
      "text/plain": [
       "1"
      ]
     },
     "execution_count": 13,
     "metadata": {},
     "output_type": "execute_result"
    }
   ],
   "source": [
    "y_train0[1]"
   ]
  },
  {
   "cell_type": "code",
   "execution_count": 14,
   "metadata": {},
   "outputs": [
    {
     "data": {
      "image/png": "[encoded data removed]",
      "text/plain": [
       "<Figure size 432x288 with 1 Axes>"
      ]
     },
     "metadata": {
      "needs_background": "light"
     },
     "output_type": "display_data"
    }
   ],
   "source": [
    "plot_image(x_train[1])"
   ]
  },
  {
   "cell_type": "code",
   "execution_count": 15,
   "metadata": {},
   "outputs": [
    {
     "name": "stdout",
     "output_type": "stream",
     "text": [
      "(1, 0, 0, 0, 0, 0, 0, 0, 0, 0)\n"
     ]
    }
   ],
   "source": [
    "print (y_train0[1], y_train1[1], y_train2[1], y_train3[1], y_train4[1], y_train5[1], y_train6[1], y_train7[1], y_train8[1], y_train9[1])"
   ]
  },
  {
   "cell_type": "code",
   "execution_count": 16,
   "metadata": {},
   "outputs": [
    {
     "data": {
      "image/png": "[encoded data removed]",
      "text/plain": [
       "<Figure size 432x432 with 9 Axes>"
      ]
     },
     "metadata": {
      "needs_background": "light"
     },
     "output_type": "display_data"
    }
   ],
   "source": [
    "fig, ax = plt.subplots()\n",
    "fig.set_size_inches(6, 6)\n",
    "\n",
    "for i in range(9):\n",
    "    plt.subplot(330 + 1 + i)\n",
    "    plt.axis('off')\n",
    "    image = x_train[i]\n",
    "    image = np.array(image, dtype='float')\n",
    "    pixels = image.reshape((28, 28))\n",
    "    plt.imshow(pixels, cmap='gray')\n",
    "    plt.title(y_train0[i])\n",
    "plt.show()"
   ]
  },
  {
   "cell_type": "code",
   "execution_count": 17,
   "metadata": {},
   "outputs": [
    {
     "data": {
      "image/png": "[encoded data removed]",
      "text/plain": [
       "<Figure size 432x432 with 9 Axes>"
      ]
     },
     "metadata": {
      "needs_background": "light"
     },
     "output_type": "display_data"
    }
   ],
   "source": [
    "fig, ax = plt.subplots()\n",
    "fig.set_size_inches(6, 6)\n",
    "\n",
    "for i in range(9):\n",
    "    plt.subplot(330 + 1 + i)\n",
    "    plt.axis('off')\n",
    "    image = x_train[i]\n",
    "    image = np.array(image, dtype='float')\n",
    "    pixels = image.reshape((28, 28))\n",
    "    plt.imshow(pixels, cmap='gray')\n",
    "    plt.title(y_train1[i])\n",
    "plt.show()"
   ]
  },
  {
   "cell_type": "markdown",
   "metadata": {},
   "source": [
    "Las clases se convierten en matrices binarias para utilizarlas con la función de pérdida `categorical_crossentropy`."
   ]
  },
  {
   "cell_type": "code",
   "execution_count": 18,
   "metadata": {},
   "outputs": [],
   "source": [
    "y_train0 = keras.utils.to_categorical(y_train0, num_classes)\n",
    "y_test0 = keras.utils.to_categorical(y_test0, num_classes)\n",
    "\n",
    "y_train1 = keras.utils.to_categorical(y_train1, num_classes)\n",
    "y_test1 = keras.utils.to_categorical(y_test1, num_classes)\n",
    "\n",
    "y_train2 = keras.utils.to_categorical(y_train2, num_classes)\n",
    "y_test2 = keras.utils.to_categorical(y_test2, num_classes)\n",
    "\n",
    "y_train3 = keras.utils.to_categorical(y_train3, num_classes)\n",
    "y_test3 = keras.utils.to_categorical(y_test3, num_classes)\n",
    "\n",
    "y_train4 = keras.utils.to_categorical(y_train4, num_classes)\n",
    "y_test4 = keras.utils.to_categorical(y_test4, num_classes)\n",
    "\n",
    "y_train5 = keras.utils.to_categorical(y_train5, num_classes)\n",
    "y_test5 = keras.utils.to_categorical(y_test5, num_classes)\n",
    "\n",
    "y_train6 = keras.utils.to_categorical(y_train6, num_classes)\n",
    "y_test6 = keras.utils.to_categorical(y_test6, num_classes)\n",
    "\n",
    "y_train7 = keras.utils.to_categorical(y_train7, num_classes)\n",
    "y_test7 = keras.utils.to_categorical(y_test7, num_classes)\n",
    "\n",
    "y_train8 = keras.utils.to_categorical(y_train8, num_classes)\n",
    "y_test8 = keras.utils.to_categorical(y_test8, num_classes)\n",
    "\n",
    "y_train9 = keras.utils.to_categorical(y_train9, num_classes)\n",
    "y_test9 = keras.utils.to_categorical(y_test9, num_classes)"
   ]
  },
  {
   "cell_type": "code",
   "execution_count": 19,
   "metadata": {},
   "outputs": [
    {
     "data": {
      "text/plain": [
       "array([1., 0.], dtype=float32)"
      ]
     },
     "execution_count": 19,
     "metadata": {},
     "output_type": "execute_result"
    }
   ],
   "source": [
    "y_train0[0]"
   ]
  },
  {
   "cell_type": "code",
   "execution_count": 20,
   "metadata": {},
   "outputs": [
    {
     "data": {
      "text/plain": [
       "array([0., 1.], dtype=float32)"
      ]
     },
     "execution_count": 20,
     "metadata": {},
     "output_type": "execute_result"
    }
   ],
   "source": [
    "y_train0[1]"
   ]
  },
  {
   "cell_type": "markdown",
   "metadata": {},
   "source": [
    "Podemos ver que el sexto valor es 1 indicando que la etiqueta de la primera imagen de la muestra de entrenamiento es un cinco. Recordemos que el vector es de 10 posiciones que inicia desde el 0.\n",
    "\n",
    "Ahora vamos a crear el modelo con dos capas de convolución de 32 y 64 mapas de características respectivamente con kernel de $3\\times 3$ y ReLU como función de activación. Luego se aplica una capa de sub muestraje con ventana de $2\\times 2$ y finalmente una red reuronal conectada con 128 neuronas.\n",
    "\n",
    "Para el modelo se utiliza la entropía, Adadelta como algoritmo de optimización y la métrica es la exactitud."
   ]
  },
  {
   "cell_type": "markdown",
   "metadata": {},
   "source": [
    "Si adicionalmente aplicamos `dropout` el modelo mejora ligeramente."
   ]
  },
  {
   "cell_type": "code",
   "execution_count": 21,
   "metadata": {},
   "outputs": [],
   "source": [
    "def create_model():\n",
    "    model = Sequential()\n",
    "    model.add(Conv2D(32, kernel_size=(3, 3),\n",
    "                     activation='relu',\n",
    "                     input_shape=input_shape))\n",
    "    model.add(Conv2D(64, (3, 3), activation='relu'))\n",
    "    model.add(MaxPooling2D(pool_size=(2, 2)))\n",
    "    model.add(Dropout(0.25))\n",
    "    model.add(Flatten())\n",
    "    model.add(Dense(128, activation='relu'))\n",
    "    model.add(Dropout(0.5))\n",
    "    model.add(Dense(num_classes, activation='softmax'))\n",
    "\n",
    "    model.compile(loss=keras.losses.categorical_crossentropy,\n",
    "                  optimizer=keras.optimizers.Adadelta(),\n",
    "                  metrics=['accuracy'])\n",
    "    return model"
   ]
  },
  {
   "cell_type": "code",
   "execution_count": 22,
   "metadata": {},
   "outputs": [],
   "source": [
    "def fit_model(model, y_train, y_test):\n",
    "    model.fit(x_train, y_train,\n",
    "          batch_size=batch_size,\n",
    "          epochs=4,\n",
    "          verbose=1,\n",
    "          validation_data=(x_test, y_test))"
   ]
  },
  {
   "cell_type": "code",
   "execution_count": 23,
   "metadata": {},
   "outputs": [],
   "source": [
    "def eval_model(model, y_test):\n",
    "    score = model.evaluate(x_test, y_test, verbose=0)\n",
    "    print('Test loss:', score[0])\n",
    "    print('Test accuracy:', score[1])\n",
    "    return score"
   ]
  },
  {
   "cell_type": "code",
   "execution_count": 24,
   "metadata": {},
   "outputs": [],
   "source": [
    "def create_train_test_save_model(name, y_train, y_test):\n",
    "    model = create_model()\n",
    "    fit_model(model, y_train, y_test)\n",
    "    eval_model(model, y_test)\n",
    "    model.save(name)\n",
    "    return model"
   ]
  },
  {
   "cell_type": "code",
   "execution_count": 25,
   "metadata": {
    "scrolled": true
   },
   "outputs": [
    {
     "name": "stdout",
     "output_type": "stream",
     "text": [
      "Train on 60000 samples, validate on 10000 samples\n",
      "Epoch 1/4\n",
      "60000/60000 [==============================] - 111s 2ms/step - loss: 0.0399 - acc: 0.9874 - val_loss: 0.0120 - val_acc: 0.9958\n",
      "Epoch 2/4\n",
      "60000/60000 [==============================] - 104s 2ms/step - loss: 0.0124 - acc: 0.9958 - val_loss: 0.0086 - val_acc: 0.9975\n",
      "Epoch 3/4\n",
      "60000/60000 [==============================] - 104s 2ms/step - loss: 0.0091 - acc: 0.9974 - val_loss: 0.0069 - val_acc: 0.9975\n",
      "Epoch 4/4\n",
      "60000/60000 [==============================] - 100s 2ms/step - loss: 0.0069 - acc: 0.9977 - val_loss: 0.0070 - val_acc: 0.9977\n",
      "('Test loss:', 0.006952522581852827)\n",
      "('Test accuracy:', 0.9977)\n"
     ]
    }
   ],
   "source": [
    "model0 = create_train_test_save_model(\"MNIST-keras-binary-0-4-epochs.h5\", y_train0, y_test0)"
   ]
  },
  {
   "cell_type": "code",
   "execution_count": 26,
   "metadata": {
    "scrolled": true
   },
   "outputs": [
    {
     "name": "stdout",
     "output_type": "stream",
     "text": [
      "Train on 60000 samples, validate on 10000 samples\n",
      "Epoch 1/4\n",
      "60000/60000 [==============================] - 99s 2ms/step - loss: 0.0386 - acc: 0.9870 - val_loss: 0.0110 - val_acc: 0.9969\n",
      "Epoch 2/4\n",
      "60000/60000 [==============================] - 103s 2ms/step - loss: 0.0145 - acc: 0.9957 - val_loss: 0.0120 - val_acc: 0.9958\n",
      "Epoch 3/4\n",
      "60000/60000 [==============================] - 105s 2ms/step - loss: 0.0108 - acc: 0.9966 - val_loss: 0.0063 - val_acc: 0.9980\n",
      "Epoch 4/4\n",
      "60000/60000 [==============================] - 109s 2ms/step - loss: 0.0086 - acc: 0.9974 - val_loss: 0.0061 - val_acc: 0.9979\n",
      "('Test loss:', 0.006133642076255637)\n",
      "('Test accuracy:', 0.9979)\n"
     ]
    }
   ],
   "source": [
    "model1 = create_train_test_save_model(\"MNIST-keras-binary-1-4-epochs.h5\", y_train1, y_test1)"
   ]
  },
  {
   "cell_type": "code",
   "execution_count": 27,
   "metadata": {
    "scrolled": true
   },
   "outputs": [
    {
     "name": "stdout",
     "output_type": "stream",
     "text": [
      "Train on 60000 samples, validate on 10000 samples\n",
      "Epoch 1/4\n",
      "60000/60000 [==============================] - 108s 2ms/step - loss: 0.0568 - acc: 0.9811 - val_loss: 0.0220 - val_acc: 0.9924\n",
      "Epoch 2/4\n",
      "60000/60000 [==============================] - 105s 2ms/step - loss: 0.0193 - acc: 0.9938 - val_loss: 0.0116 - val_acc: 0.9963\n",
      "Epoch 3/4\n",
      "60000/60000 [==============================] - 105s 2ms/step - loss: 0.0143 - acc: 0.9953 - val_loss: 0.0105 - val_acc: 0.9968\n",
      "Epoch 4/4\n",
      "60000/60000 [==============================] - 106s 2ms/step - loss: 0.0108 - acc: 0.9965 - val_loss: 0.0094 - val_acc: 0.9968\n",
      "('Test loss:', 0.009375769177425537)\n",
      "('Test accuracy:', 0.9968)\n"
     ]
    }
   ],
   "source": [
    "model2 = create_train_test_save_model(\"MNIST-keras-binary-2-4-epochs.h5\", y_train2, y_test2)"
   ]
  },
  {
   "cell_type": "code",
   "execution_count": 28,
   "metadata": {
    "scrolled": true
   },
   "outputs": [
    {
     "name": "stdout",
     "output_type": "stream",
     "text": [
      "Train on 60000 samples, validate on 10000 samples\n",
      "Epoch 1/4\n",
      "60000/60000 [==============================] - 109s 2ms/step - loss: 0.0716 - acc: 0.9755 - val_loss: 0.0156 - val_acc: 0.9954\n",
      "Epoch 2/4\n",
      "60000/60000 [==============================] - 112s 2ms/step - loss: 0.0202 - acc: 0.9939 - val_loss: 0.0083 - val_acc: 0.9969\n",
      "Epoch 3/4\n",
      "60000/60000 [==============================] - 104s 2ms/step - loss: 0.0132 - acc: 0.9960 - val_loss: 0.0066 - val_acc: 0.9979\n",
      "Epoch 4/4\n",
      "60000/60000 [==============================] - 102s 2ms/step - loss: 0.0103 - acc: 0.9969 - val_loss: 0.0080 - val_acc: 0.9973\n",
      "('Test loss:', 0.008002523949685566)\n",
      "('Test accuracy:', 0.9973)\n"
     ]
    }
   ],
   "source": [
    "model3 = create_train_test_save_model(\"MNIST-keras-binary-3-4-epochs.h5\", y_train3, y_test3)"
   ]
  },
  {
   "cell_type": "code",
   "execution_count": 29,
   "metadata": {
    "scrolled": true
   },
   "outputs": [
    {
     "name": "stdout",
     "output_type": "stream",
     "text": [
      "Train on 60000 samples, validate on 10000 samples\n",
      "Epoch 1/4\n",
      "60000/60000 [==============================] - 100s 2ms/step - loss: 0.0486 - acc: 0.9837 - val_loss: 0.0152 - val_acc: 0.9943\n",
      "Epoch 2/4\n",
      "60000/60000 [==============================] - 102s 2ms/step - loss: 0.0164 - acc: 0.9950 - val_loss: 0.0080 - val_acc: 0.9966\n",
      "Epoch 3/4\n",
      "60000/60000 [==============================] - 105s 2ms/step - loss: 0.0132 - acc: 0.9960 - val_loss: 0.0062 - val_acc: 0.9974\n",
      "Epoch 4/4\n",
      "60000/60000 [==============================] - 105s 2ms/step - loss: 0.0109 - acc: 0.9967 - val_loss: 0.0058 - val_acc: 0.9975\n",
      "('Test loss:', 0.0057561287554075535)\n",
      "('Test accuracy:', 0.9975)\n"
     ]
    }
   ],
   "source": [
    "model4 = create_train_test_save_model(\"MNIST-keras-binary-4-4-epochs.h5\", y_train4, y_test4)"
   ]
  },
  {
   "cell_type": "code",
   "execution_count": 30,
   "metadata": {
    "scrolled": true
   },
   "outputs": [
    {
     "name": "stdout",
     "output_type": "stream",
     "text": [
      "Train on 60000 samples, validate on 10000 samples\n",
      "Epoch 1/4\n",
      "60000/60000 [==============================] - 103s 2ms/step - loss: 0.0556 - acc: 0.9806 - val_loss: 0.0139 - val_acc: 0.9958\n",
      "Epoch 2/4\n",
      "60000/60000 [==============================] - 97s 2ms/step - loss: 0.0173 - acc: 0.9948 - val_loss: 0.0082 - val_acc: 0.9972\n",
      "Epoch 3/4\n",
      "60000/60000 [==============================] - 99s 2ms/step - loss: 0.0133 - acc: 0.9962 - val_loss: 0.0068 - val_acc: 0.9976\n",
      "Epoch 4/4\n",
      "60000/60000 [==============================] - 100s 2ms/step - loss: 0.0098 - acc: 0.9972 - val_loss: 0.0133 - val_acc: 0.9955\n",
      "('Test loss:', 0.013331696229543149)\n",
      "('Test accuracy:', 0.9955)\n"
     ]
    }
   ],
   "source": [
    "model5 = create_train_test_save_model(\"MNIST-keras-binary-5-4-epochs.h5\", y_train5, y_test5)"
   ]
  },
  {
   "cell_type": "code",
   "execution_count": 31,
   "metadata": {
    "scrolled": true
   },
   "outputs": [
    {
     "name": "stdout",
     "output_type": "stream",
     "text": [
      "Train on 60000 samples, validate on 10000 samples\n",
      "Epoch 1/4\n",
      "60000/60000 [==============================] - 109s 2ms/step - loss: 0.0425 - acc: 0.9858 - val_loss: 0.0136 - val_acc: 0.9964\n",
      "Epoch 2/4\n",
      "60000/60000 [==============================] - 108s 2ms/step - loss: 0.0122 - acc: 0.9959 - val_loss: 0.0102 - val_acc: 0.9971\n",
      "Epoch 3/4\n",
      "60000/60000 [==============================] - 105s 2ms/step - loss: 0.0087 - acc: 0.9969 - val_loss: 0.0104 - val_acc: 0.9968\n",
      "Epoch 4/4\n",
      "60000/60000 [==============================] - 106s 2ms/step - loss: 0.0070 - acc: 0.9975 - val_loss: 0.0086 - val_acc: 0.9973\n",
      "('Test loss:', 0.008566712861373525)\n",
      "('Test accuracy:', 0.9973)\n"
     ]
    }
   ],
   "source": [
    "model6 = create_train_test_save_model(\"MNIST-keras-binary-6-4-epochs.h5\", y_train6, y_test6)"
   ]
  },
  {
   "cell_type": "code",
   "execution_count": 32,
   "metadata": {
    "scrolled": true
   },
   "outputs": [
    {
     "name": "stdout",
     "output_type": "stream",
     "text": [
      "Train on 60000 samples, validate on 10000 samples\n",
      "Epoch 1/4\n",
      "60000/60000 [==============================] - 106s 2ms/step - loss: 0.0534 - acc: 0.9820 - val_loss: 0.0303 - val_acc: 0.9909\n",
      "Epoch 2/4\n",
      "60000/60000 [==============================] - 100s 2ms/step - loss: 0.0208 - acc: 0.9931 - val_loss: 0.0142 - val_acc: 0.9947\n",
      "Epoch 3/4\n",
      "60000/60000 [==============================] - 102s 2ms/step - loss: 0.0155 - acc: 0.9954 - val_loss: 0.0107 - val_acc: 0.9961\n",
      "Epoch 4/4\n",
      "60000/60000 [==============================] - 105s 2ms/step - loss: 0.0122 - acc: 0.9965 - val_loss: 0.0094 - val_acc: 0.9968\n",
      "('Test loss:', 0.009366840061731637)\n",
      "('Test accuracy:', 0.9968)\n"
     ]
    }
   ],
   "source": [
    "model7 = create_train_test_save_model(\"MNIST-keras-binary-7-4-epochs.h5\", y_train7, y_test7)"
   ]
  },
  {
   "cell_type": "code",
   "execution_count": 33,
   "metadata": {
    "scrolled": true
   },
   "outputs": [
    {
     "name": "stdout",
     "output_type": "stream",
     "text": [
      "Train on 60000 samples, validate on 10000 samples\n",
      "Epoch 1/4\n",
      "60000/60000 [==============================] - 106s 2ms/step - loss: 0.0947 - acc: 0.9689 - val_loss: 0.0308 - val_acc: 0.9894\n",
      "Epoch 2/4\n",
      "60000/60000 [==============================] - 107s 2ms/step - loss: 0.0293 - acc: 0.9912 - val_loss: 0.0137 - val_acc: 0.9954\n",
      "Epoch 3/4\n",
      "60000/60000 [==============================] - 104s 2ms/step - loss: 0.0200 - acc: 0.9935 - val_loss: 0.0118 - val_acc: 0.9961\n",
      "Epoch 4/4\n",
      "60000/60000 [==============================] - 100s 2ms/step - loss: 0.0150 - acc: 0.9952 - val_loss: 0.0091 - val_acc: 0.9965\n",
      "('Test loss:', 0.009133747112331912)\n",
      "('Test accuracy:', 0.9965)\n"
     ]
    }
   ],
   "source": [
    "model8 = create_train_test_save_model(\"MNIST-keras-binary-8-4-epochs.h5\", y_train8, y_test8)"
   ]
  },
  {
   "cell_type": "code",
   "execution_count": 34,
   "metadata": {
    "scrolled": true
   },
   "outputs": [
    {
     "name": "stdout",
     "output_type": "stream",
     "text": [
      "Train on 60000 samples, validate on 10000 samples\n",
      "Epoch 1/4\n",
      "60000/60000 [==============================] - 107s 2ms/step - loss: 0.0760 - acc: 0.9736 - val_loss: 0.0250 - val_acc: 0.9920\n",
      "Epoch 2/4\n",
      "60000/60000 [==============================] - 104s 2ms/step - loss: 0.0257 - acc: 0.9925 - val_loss: 0.0184 - val_acc: 0.9943\n",
      "Epoch 3/4\n",
      "60000/60000 [==============================] - 103s 2ms/step - loss: 0.0187 - acc: 0.9943 - val_loss: 0.0157 - val_acc: 0.9955\n",
      "Epoch 4/4\n",
      "60000/60000 [==============================] - 104s 2ms/step - loss: 0.0153 - acc: 0.9957 - val_loss: 0.0124 - val_acc: 0.9959\n",
      "('Test loss:', 0.012406011849817877)\n",
      "('Test accuracy:', 0.9959)\n"
     ]
    }
   ],
   "source": [
    "model9 = create_train_test_save_model(\"MNIST-keras-binary-9-4-epochs.h5\", y_train9, y_test9)"
   ]
  },
  {
   "cell_type": "code",
   "execution_count": 38,
   "metadata": {},
   "outputs": [
    {
     "data": {
      "image/png": "[encoded data removed]",
      "text/plain": [
       "<Figure size 432x288 with 1 Axes>"
      ]
     },
     "metadata": {
      "needs_background": "light"
     },
     "output_type": "display_data"
    }
   ],
   "source": [
    "plot_image(x_test[0])"
   ]
  },
  {
   "cell_type": "code",
   "execution_count": 103,
   "metadata": {},
   "outputs": [],
   "source": [
    "def get_min_pred_from_model(model, data):\n",
    "    return model.predict(np.expand_dims(data, axis=0))[0][0]"
   ]
  },
  {
   "cell_type": "code",
   "execution_count": null,
   "metadata": {},
   "outputs": [],
   "source": [
    "def get_max_pred_from_model(model, data):\n",
    "    return model.predict(np.expand_dims(data, axis=0))[0][1]"
   ]
  },
  {
   "cell_type": "code",
   "execution_count": null,
   "metadata": {},
   "outputs": [],
   "source": [
    "def get_pred_from_model(model, data):\n",
    "    return model.predict(np.expand_dims(data, axis=0))[0][0]"
   ]
  },
  {
   "cell_type": "code",
   "execution_count": 59,
   "metadata": {},
   "outputs": [],
   "source": [
    "models = np.array([model0, model1, model2, model3, model4, model5, model6, model7, model8, model9])"
   ]
  },
  {
   "cell_type": "code",
   "execution_count": 104,
   "metadata": {},
   "outputs": [],
   "source": [
    "def predict_from_models(models, data):\n",
    "    predictions = []\n",
    "    for image in data:\n",
    "        result = []\n",
    "        for m in range(10):\n",
    "            result.append(get_pred_from_model(models[m], image))    \n",
    "        predictions.append(np.where(result==np.amin(result))[0][0])\n",
    "    return predictions"
   ]
  },
  {
   "cell_type": "code",
   "execution_count": 105,
   "metadata": {},
   "outputs": [],
   "source": [
    "y_pred = predict_from_models(models, x_test)"
   ]
  },
  {
   "cell_type": "code",
   "execution_count": 106,
   "metadata": {},
   "outputs": [],
   "source": [
    "y_pred_categ = keras.utils.to_categorical(y_pred, 10)"
   ]
  },
  {
   "cell_type": "code",
   "execution_count": 112,
   "metadata": {},
   "outputs": [],
   "source": [
    "y_test = keras.utils.to_categorical(y_test, 10)"
   ]
  },
  {
   "cell_type": "code",
   "execution_count": 113,
   "metadata": {},
   "outputs": [
    {
     "data": {
      "text/plain": [
       "array([[0., 0., 0., ..., 1., 0., 0.],\n",
       "       [0., 0., 1., ..., 0., 0., 0.],\n",
       "       [0., 1., 0., ..., 0., 0., 0.],\n",
       "       ...,\n",
       "       [0., 0., 0., ..., 0., 0., 0.],\n",
       "       [0., 0., 0., ..., 0., 0., 0.],\n",
       "       [0., 0., 0., ..., 0., 0., 0.]], dtype=float32)"
      ]
     },
     "execution_count": 113,
     "metadata": {},
     "output_type": "execute_result"
    }
   ],
   "source": [
    "y_pred_categ"
   ]
  },
  {
   "cell_type": "markdown",
   "metadata": {},
   "source": [
    "y_pred.argmax(axis=1)"
   ]
  },
  {
   "cell_type": "markdown",
   "metadata": {},
   "source": [
    "y_test"
   ]
  },
  {
   "cell_type": "code",
   "execution_count": 115,
   "metadata": {},
   "outputs": [
    {
     "data": {
      "text/plain": [
       "array([[ 977,    0,    1,    0,    0,    0,    1,    1,    0,    0],\n",
       "       [   0, 1125,    1,    2,    1,    1,    2,    2,    1,    0],\n",
       "       [   3,    2, 1017,    0,    1,    0,    1,    6,    2,    0],\n",
       "       [   1,    0,    4,  998,    0,    3,    0,    1,    3,    0],\n",
       "       [   0,    0,    0,    0,  976,    0,    4,    0,    0,    2],\n",
       "       [   2,    0,    0,    5,    0,  875,    6,    1,    2,    1],\n",
       "       [   7,    2,    0,    1,    1,    1,  945,    0,    1,    0],\n",
       "       [   1,    1,    7,    1,    0,    0,    0, 1017,    1,    0],\n",
       "       [   5,    0,    1,    1,    2,    0,    1,    1,  961,    2],\n",
       "       [   2,    1,    0,    0,    4,    1,    0,    5,    2,  994]])"
      ]
     },
     "execution_count": 115,
     "metadata": {},
     "output_type": "execute_result"
    }
   ],
   "source": [
    "matrix = metrics.confusion_matrix(y_test.argmax(axis=1), y_pred_categ.argmax(axis=1))\n",
    "matrix"
   ]
  },
  {
   "cell_type": "code",
   "execution_count": 116,
   "metadata": {},
   "outputs": [],
   "source": [
    "y_pred_mode1 = model1.predict(x_test)"
   ]
  },
  {
   "cell_type": "code",
   "execution_count": 119,
   "metadata": {},
   "outputs": [
    {
     "data": {
      "text/plain": [
       "array([[1.0000000e+00, 2.0631527e-08],\n",
       "       [9.9995410e-01, 4.5870733e-05],\n",
       "       [3.9391490e-04, 9.9960607e-01],\n",
       "       ...,\n",
       "       [9.9999928e-01, 7.3630116e-07],\n",
       "       [9.9999964e-01, 4.0194598e-07],\n",
       "       [1.0000000e+00, 5.2008300e-09]], dtype=float32)"
      ]
     },
     "execution_count": 119,
     "metadata": {},
     "output_type": "execute_result"
    }
   ],
   "source": [
    "y_pred_mode1"
   ]
  },
  {
   "cell_type": "code",
   "execution_count": 117,
   "metadata": {},
   "outputs": [
    {
     "data": {
      "text/plain": [
       "array([[ 980,    0,    0,    0,    0,    0,    0,    0,    0,    0],\n",
       "       [  15, 1120,    0,    0,    0,    0,    0,    0,    0,    0],\n",
       "       [1031,    1,    0,    0,    0,    0,    0,    0,    0,    0],\n",
       "       [1010,    0,    0,    0,    0,    0,    0,    0,    0,    0],\n",
       "       [ 982,    0,    0,    0,    0,    0,    0,    0,    0,    0],\n",
       "       [ 892,    0,    0,    0,    0,    0,    0,    0,    0,    0],\n",
       "       [ 956,    2,    0,    0,    0,    0,    0,    0,    0,    0],\n",
       "       [1027,    1,    0,    0,    0,    0,    0,    0,    0,    0],\n",
       "       [ 974,    0,    0,    0,    0,    0,    0,    0,    0,    0],\n",
       "       [1007,    2,    0,    0,    0,    0,    0,    0,    0,    0]])"
      ]
     },
     "execution_count": 117,
     "metadata": {},
     "output_type": "execute_result"
    }
   ],
   "source": [
    "matrix = metrics.confusion_matrix(y_test.argmax(axis=1), y_pred_mode1.argmax(axis=1))\n",
    "matrix"
   ]
  },
  {
   "cell_type": "markdown",
   "metadata": {},
   "source": [
    "Ahora podemos cargar el modelo salvado para realizar inferencias. Lo interesante es que una vez que el modelo está ajustado, lo podemos utilizar para inferir. De esta forma se pueden crear bases de datos de modelos pre entrenados que permiten realizar inferencias. Es como contar con los parámetros de un programa que ahora se puede ejecutar en cualquier lugar."
   ]
  },
  {
   "cell_type": "code",
   "execution_count": 246,
   "metadata": {},
   "outputs": [
    {
     "name": "stdout",
     "output_type": "stream",
     "text": [
      "_________________________________________________________________\n",
      "Layer (type)                 Output Shape              Param #   \n",
      "=================================================================\n",
      "conv2d_17 (Conv2D)           (None, 26, 26, 32)        320       \n",
      "_________________________________________________________________\n",
      "conv2d_18 (Conv2D)           (None, 24, 24, 64)        18496     \n",
      "_________________________________________________________________\n",
      "max_pooling2d_9 (MaxPooling2 (None, 12, 12, 64)        0         \n",
      "_________________________________________________________________\n",
      "dropout_17 (Dropout)         (None, 12, 12, 64)        0         \n",
      "_________________________________________________________________\n",
      "flatten_9 (Flatten)          (None, 9216)              0         \n",
      "_________________________________________________________________\n",
      "dense_17 (Dense)             (None, 128)               1179776   \n",
      "_________________________________________________________________\n",
      "dropout_18 (Dropout)         (None, 128)               0         \n",
      "_________________________________________________________________\n",
      "dense_18 (Dense)             (None, 2)                 258       \n",
      "=================================================================\n",
      "Total params: 1,198,850\n",
      "Trainable params: 1,198,850\n",
      "Non-trainable params: 0\n",
      "_________________________________________________________________\n"
     ]
    }
   ],
   "source": [
    "model = load_model('MNIST-keras-binary-0-4-epochs.h5')\n",
    "model.summary()"
   ]
  },
  {
   "cell_type": "code",
   "execution_count": 247,
   "metadata": {},
   "outputs": [
    {
     "name": "stdout",
     "output_type": "stream",
     "text": [
      "('Test loss:', 0.005942696976230764)\n",
      "('Test accuracy:', 0.9977)\n"
     ]
    }
   ],
   "source": [
    "score = model.evaluate(x_test, y_test0, verbose=0)\n",
    "print('Test loss:', score[0])\n",
    "print('Test accuracy:', score[1])"
   ]
  },
  {
   "cell_type": "markdown",
   "metadata": {},
   "source": [
    "Vamos a almacenar en `y_pred` los valores inferidos de los datos de prueba `x_test`."
   ]
  },
  {
   "cell_type": "code",
   "execution_count": 67,
   "metadata": {},
   "outputs": [],
   "source": [
    "y_pred = model.predict(x_test)"
   ]
  },
  {
   "cell_type": "markdown",
   "metadata": {},
   "source": [
    "Con las inferencias ahora podemos hacer la matriz de confusión y a partir de esta generar métricas adicionales."
   ]
  },
  {
   "cell_type": "code",
   "execution_count": 68,
   "metadata": {},
   "outputs": [
    {
     "data": {
      "text/plain": [
       "array([[9005,   15],\n",
       "       [  18,  962]])"
      ]
     },
     "execution_count": 68,
     "metadata": {},
     "output_type": "execute_result"
    }
   ],
   "source": [
    "matrix = metrics.confusion_matrix(y_test.argmax(axis=1), y_pred.argmax(axis=1))\n",
    "matrix"
   ]
  },
  {
   "cell_type": "markdown",
   "metadata": {},
   "source": [
    "Vamos a probar con el primer dato de prueba."
   ]
  },
  {
   "cell_type": "code",
   "execution_count": 69,
   "metadata": {},
   "outputs": [
    {
     "data": {
      "image/png": "[encoded data removed]",
      "text/plain": [
       "<Figure size 432x288 with 1 Axes>"
      ]
     },
     "metadata": {
      "needs_background": "light"
     },
     "output_type": "display_data"
    }
   ],
   "source": [
    "plot_image(x_test[0])"
   ]
  },
  {
   "cell_type": "markdown",
   "metadata": {},
   "source": [
    "Observemos el resultado esperado."
   ]
  },
  {
   "cell_type": "code",
   "execution_count": 70,
   "metadata": {},
   "outputs": [
    {
     "data": {
      "text/plain": [
       "array([1., 0.], dtype=float32)"
      ]
     },
     "execution_count": 70,
     "metadata": {},
     "output_type": "execute_result"
    }
   ],
   "source": [
    "y_test[0]"
   ]
  },
  {
   "cell_type": "markdown",
   "metadata": {},
   "source": [
    "Ahora comparamos con el valor inferido."
   ]
  },
  {
   "cell_type": "code",
   "execution_count": 71,
   "metadata": {},
   "outputs": [
    {
     "data": {
      "text/plain": [
       "array([9.9998987e-01, 1.0095571e-05], dtype=float32)"
      ]
     },
     "execution_count": 71,
     "metadata": {},
     "output_type": "execute_result"
    }
   ],
   "source": [
    "y_pred[0]"
   ]
  },
  {
   "cell_type": "markdown",
   "metadata": {},
   "source": [
    "Podemos corroborar que coincide."
   ]
  },
  {
   "cell_type": "code",
   "execution_count": 72,
   "metadata": {},
   "outputs": [
    {
     "data": {
      "text/plain": [
       "0"
      ]
     },
     "execution_count": 72,
     "metadata": {},
     "output_type": "execute_result"
    }
   ],
   "source": [
    "np.where(y_pred[0]==np.amax(y_pred[0]))[0][0]"
   ]
  },
  {
   "cell_type": "markdown",
   "metadata": {},
   "source": [
    "## Matriz de confusión\n",
    "\n",
    "Para dibujar la matriz de confusión se utiliza la rutina [confusion_matrix](https://scikit-learn.org/stable/auto_examples/model_selection/plot_confusion_matrix.html#sphx-glr-auto-examples-model-selection-plot-confusion-matrix-py) de [scikit-learn](https://scikit-learn.org). \n",
    "\n",
    "A esta rutina se le pasan los datos de prueba y las predicciones generadas por el modelo."
   ]
  },
  {
   "cell_type": "code",
   "execution_count": 73,
   "metadata": {},
   "outputs": [
    {
     "data": {
      "text/plain": [
       "array([[9005,   15],\n",
       "       [  18,  962]])"
      ]
     },
     "execution_count": 73,
     "metadata": {},
     "output_type": "execute_result"
    }
   ],
   "source": [
    "matrix = metrics.confusion_matrix(y_test.argmax(axis=1), y_pred.argmax(axis=1))\n",
    "matrix"
   ]
  },
  {
   "cell_type": "markdown",
   "metadata": {},
   "source": [
    "Para normalizar los datos de la matriz de confusión se normaliza cada fila."
   ]
  },
  {
   "cell_type": "code",
   "execution_count": 74,
   "metadata": {},
   "outputs": [
    {
     "data": {
      "text/plain": [
       "array([[0.99833703, 0.00166297],\n",
       "       [0.01836735, 0.98163265]])"
      ]
     },
     "execution_count": 74,
     "metadata": {},
     "output_type": "execute_result"
    }
   ],
   "source": [
    "matrix.astype('float') / matrix.sum(axis=1)[:, np.newaxis]"
   ]
  },
  {
   "cell_type": "markdown",
   "metadata": {},
   "source": [
    "Hemos modificado el ejemplo para mostrar la matriz de confusión del ajuste con los datos MNIST."
   ]
  },
  {
   "cell_type": "code",
   "execution_count": 97,
   "metadata": {},
   "outputs": [],
   "source": [
    "from sklearn.model_selection import train_test_split\n",
    "from sklearn.metrics import confusion_matrix\n",
    "from sklearn.utils.multiclass import unique_labels\n",
    "\n",
    "class_names = np.array(['No es 0', 'Es 0'])\n",
    "\n",
    "def plot_confusion_matrix(y_true, y_pred, classes,\n",
    "                          normalize=False,\n",
    "                          title=None,\n",
    "                          cmap=plt.cm.Blues,\n",
    "                          printtext=False):\n",
    "    \"\"\"\n",
    "    This function prints and plots the confusion matrix.\n",
    "    Normalization can be applied by setting `normalize=True`.\n",
    "    \"\"\"\n",
    "    if not title:\n",
    "        if normalize:\n",
    "            title = 'Matriz de confusión normalizada'\n",
    "        else:\n",
    "            title = 'Matriz de confusión sin normalizar'\n",
    "\n",
    "    # Compute confusion matrix\n",
    "    cm = confusion_matrix(y_true.argmax(axis=1), y_pred.argmax(axis=1))\n",
    "    # Only use the labels that appear in the data\n",
    "    classes = classes[unique_labels(y_true)]\n",
    "    \n",
    "    if normalize:\n",
    "        cm = cm.astype('float') / cm.sum(axis=1)[:, np.newaxis]\n",
    "    \n",
    "    if printtext:\n",
    "        if normalize:\n",
    "            print(\"Matriz de confusión normalizada\")\n",
    "        else:\n",
    "            print('Matriz de confusión sin normalizar')\n",
    "        print(cm)\n",
    "\n",
    "    fig, ax = plt.subplots()\n",
    "    im = ax.imshow(cm, interpolation='nearest', cmap=cmap)\n",
    "    ax.figure.colorbar(im, ax=ax)\n",
    "    fig.set_size_inches(10, 5)\n",
    "    # We want to show all ticks...\n",
    "    ax.set(xticks=np.arange(cm.shape[1]),\n",
    "           yticks=np.arange(cm.shape[0]),\n",
    "           # ... and label them with the respective list entries\n",
    "           xticklabels=classes, yticklabels=classes,\n",
    "           title=title,\n",
    "           ylabel='Observado',\n",
    "           xlabel='Inferido')\n",
    "\n",
    "    # Loop over data dimensions and create text annotations.\n",
    "    fmt = '.2f' if normalize else 'd'\n",
    "    thresh = cm.max() / 2.\n",
    "    for i in range(cm.shape[0]):\n",
    "        for j in range(cm.shape[1]):\n",
    "            ax.text(j, i, format(cm[i, j], fmt),\n",
    "                    fontsize='smaller',\n",
    "                    ha=\"center\", va=\"center\",\n",
    "                    color=\"white\" if cm[i, j] > thresh else \"black\")\n",
    "    fig.tight_layout()\n",
    "    return ax"
   ]
  },
  {
   "cell_type": "markdown",
   "metadata": {},
   "source": [
    "Ahora podemos ver de forma visual la matriz de confusión normalizada o sin normalizar."
   ]
  },
  {
   "cell_type": "code",
   "execution_count": 98,
   "metadata": {},
   "outputs": [
    {
     "data": {
      "image/png": "[encoded data removed]",
      "text/plain": [
       "<Figure size 720x360 with 2 Axes>"
      ]
     },
     "metadata": {
      "needs_background": "light"
     },
     "output_type": "display_data"
    }
   ],
   "source": [
    "np.set_printoptions(precision=2)\n",
    "# Plot non-normalized confusion matrix\n",
    "plot_confusion_matrix(y_test, y_pred, classes=class_names,\n",
    "                      title='Matriz de confusion sin normalizar')\n",
    "plt.show()"
   ]
  },
  {
   "cell_type": "code",
   "execution_count": 99,
   "metadata": {},
   "outputs": [
    {
     "data": {
      "image/png": "[encoded data removed]",
      "text/plain": [
       "<Figure size 720x360 with 2 Axes>"
      ]
     },
     "metadata": {
      "needs_background": "light"
     },
     "output_type": "display_data"
    }
   ],
   "source": [
    "np.set_printoptions(precision=0)\n",
    "# Plot normalized confusion matrix\n",
    "plot_confusion_matrix(y_test, y_pred, classes=class_names, normalize=True,\n",
    "                      title='Matriz de confusion normalizada')\n",
    "\n",
    "plt.show()"
   ]
  },
  {
   "cell_type": "markdown",
   "metadata": {},
   "source": [
    "## Errores del modelo\n",
    "\n"
   ]
  },
  {
   "cell_type": "markdown",
   "metadata": {},
   "source": [
    "Encontramos un ejemplo donde el modelo no genera el resultado esperado y en lugar de inferir un 6 infiere un 0."
   ]
  },
  {
   "cell_type": "code",
   "execution_count": 100,
   "metadata": {},
   "outputs": [
    {
     "data": {
      "image/png": "[encoded data removed]",
      "text/plain": [
       "<Figure size 432x288 with 1 Axes>"
      ]
     },
     "metadata": {
      "needs_background": "light"
     },
     "output_type": "display_data"
    }
   ],
   "source": [
    "plot_image(x_test[100])"
   ]
  },
  {
   "cell_type": "code",
   "execution_count": 79,
   "metadata": {},
   "outputs": [
    {
     "data": {
      "text/plain": [
       "array([1., 0.], dtype=float32)"
      ]
     },
     "execution_count": 79,
     "metadata": {},
     "output_type": "execute_result"
    }
   ],
   "source": [
    "y_test[100]"
   ]
  },
  {
   "cell_type": "code",
   "execution_count": 103,
   "metadata": {},
   "outputs": [
    {
     "data": {
      "text/plain": [
       "array([1.e+00, 5.e-05], dtype=float32)"
      ]
     },
     "execution_count": 103,
     "metadata": {},
     "output_type": "execute_result"
    }
   ],
   "source": [
    "result=model.predict(np.expand_dims(x_test[100], axis=0))\n",
    "result[0]"
   ]
  },
  {
   "cell_type": "markdown",
   "metadata": {},
   "source": [
    "### Otra prueba con un 0"
   ]
  },
  {
   "cell_type": "code",
   "execution_count": 104,
   "metadata": {},
   "outputs": [
    {
     "data": {
      "image/png": "[encoded data removed]",
      "text/plain": [
       "<Figure size 432x288 with 1 Axes>"
      ]
     },
     "metadata": {
      "needs_background": "light"
     },
     "output_type": "display_data"
    }
   ],
   "source": [
    "plot_image(x_test[101])"
   ]
  },
  {
   "cell_type": "code",
   "execution_count": 105,
   "metadata": {},
   "outputs": [
    {
     "data": {
      "text/plain": [
       "array([0., 1.], dtype=float32)"
      ]
     },
     "execution_count": 105,
     "metadata": {},
     "output_type": "execute_result"
    }
   ],
   "source": [
    "y_test[101]"
   ]
  },
  {
   "cell_type": "code",
   "execution_count": 35,
   "metadata": {},
   "outputs": [
    {
     "ename": "NameError",
     "evalue": "name 'model' is not defined",
     "output_type": "error",
     "traceback": [
      "\u001b[0;31m---------------------------------------------------------------------------\u001b[0m",
      "\u001b[0;31mNameError\u001b[0m                                 Traceback (most recent call last)",
      "\u001b[0;32m<ipython-input-35-9dd374acee30>\u001b[0m in \u001b[0;36m<module>\u001b[0;34m()\u001b[0m\n\u001b[0;32m----> 1\u001b[0;31m \u001b[0mresult\u001b[0m\u001b[0;34m=\u001b[0m\u001b[0mmodel\u001b[0m\u001b[0;34m.\u001b[0m\u001b[0mpredict\u001b[0m\u001b[0;34m(\u001b[0m\u001b[0mnp\u001b[0m\u001b[0;34m.\u001b[0m\u001b[0mexpand_dims\u001b[0m\u001b[0;34m(\u001b[0m\u001b[0mx_test\u001b[0m\u001b[0;34m[\u001b[0m\u001b[0;36m101\u001b[0m\u001b[0;34m]\u001b[0m\u001b[0;34m,\u001b[0m \u001b[0maxis\u001b[0m\u001b[0;34m=\u001b[0m\u001b[0;36m0\u001b[0m\u001b[0;34m)\u001b[0m\u001b[0;34m)\u001b[0m\u001b[0;34m\u001b[0m\u001b[0m\n\u001b[0m\u001b[1;32m      2\u001b[0m \u001b[0mresult\u001b[0m\u001b[0;34m[\u001b[0m\u001b[0;36m0\u001b[0m\u001b[0;34m]\u001b[0m\u001b[0;34m[\u001b[0m\u001b[0;36m1\u001b[0m\u001b[0;34m]\u001b[0m\u001b[0;34m\u001b[0m\u001b[0m\n",
      "\u001b[0;31mNameError\u001b[0m: name 'model' is not defined"
     ]
    }
   ],
   "source": [
    "result=model.predict(np.expand_dims(x_test[101], axis=0))\n",
    "result[0][1]"
   ]
  },
  {
   "cell_type": "markdown",
   "metadata": {},
   "source": [
    "**Ejemplo con figura incompleta**"
   ]
  },
  {
   "cell_type": "code",
   "execution_count": 107,
   "metadata": {},
   "outputs": [
    {
     "data": {
      "image/png": "[encoded data removed]",
      "text/plain": [
       "<Figure size 432x288 with 1 Axes>"
      ]
     },
     "metadata": {
      "needs_background": "light"
     },
     "output_type": "display_data"
    }
   ],
   "source": [
    "plot_image(x_train[100])"
   ]
  },
  {
   "cell_type": "code",
   "execution_count": 108,
   "metadata": {},
   "outputs": [
    {
     "data": {
      "text/plain": [
       "array([1., 0.], dtype=float32)"
      ]
     },
     "execution_count": 108,
     "metadata": {},
     "output_type": "execute_result"
    }
   ],
   "source": [
    "y_train[100]"
   ]
  },
  {
   "cell_type": "code",
   "execution_count": 109,
   "metadata": {},
   "outputs": [],
   "source": [
    "number=np.expand_dims(x_train[100], axis=0)"
   ]
  },
  {
   "cell_type": "code",
   "execution_count": 111,
   "metadata": {},
   "outputs": [
    {
     "data": {
      "text/plain": [
       "array([1.e+00, 7.e-06], dtype=float32)"
      ]
     },
     "execution_count": 111,
     "metadata": {},
     "output_type": "execute_result"
    }
   ],
   "source": [
    "result=model.predict(number)[0]\n",
    "result"
   ]
  }
 ],
 "metadata": {
  "kernelspec": {
   "display_name": "Python 2",
   "language": "python",
   "name": "python2"
  },
  "language_info": {
   "codemirror_mode": {
    "name": "ipython",
    "version": 2
   },
   "file_extension": ".py",
   "mimetype": "text/x-python",
   "name": "python",
   "nbconvert_exporter": "python",
   "pygments_lexer": "ipython2",
   "version": "2.7.15"
  }
 },
 "nbformat": 4,
 "nbformat_minor": 2
}
