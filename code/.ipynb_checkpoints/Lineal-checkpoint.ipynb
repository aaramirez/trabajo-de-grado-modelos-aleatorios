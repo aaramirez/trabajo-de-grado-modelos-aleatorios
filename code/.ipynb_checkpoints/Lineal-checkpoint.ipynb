{
 "cells": [
  {
   "cell_type": "markdown",
   "metadata": {},
   "source": [
    "# Ajuste de un modelo lineal\n",
    "\n",
    "Este ejemplo muestra el proceso de ajuste de un modelo lineal con un perceptrón simple y como función de activación la función lineal.\n",
    "\n",
    "El perceptrón recibe $x$ y el sesgo $b$ como entrada y se utiliza una tasa de aprendizaje de $0,05$. Los datos corresponden a la función lineal $f(x)=2x-10$. Queremos conseguir mediante el método del descenso del gradiente los dos parámetros $w1$ y $b1$."
   ]
  },
  {
   "cell_type": "markdown",
   "metadata": {},
   "source": [
    "Vamos a utilizar `numpy` y `pandas` para dibujar los gráficos."
   ]
  },
  {
   "cell_type": "code",
   "execution_count": 1,
   "metadata": {},
   "outputs": [],
   "source": [
    "import numpy as np\n",
    "import pandas as pd\n",
    "%matplotlib inline"
   ]
  },
  {
   "cell_type": "markdown",
   "metadata": {},
   "source": [
    "Los datos de entrada corresponden a la función lineal descrita y se utilizan 13 datos para entrenar el modelo."
   ]
  },
  {
   "cell_type": "code",
   "execution_count": 2,
   "metadata": {},
   "outputs": [],
   "source": [
    "# Datos de entrada\n",
    "xList = [ -5,  -4,  -3,  -2,  -1,   0,  1,  2,  3,  4, 5, 6, 7]\n",
    "\n",
    "# Datos de salida (la función es 2*x - 10)\n",
    "yList = [-20, -18, -16, -14, -12, -10, -8, -6, -4, -2, 0, 2, 4]\n",
    "\n",
    "alpha = 0.05"
   ]
  },
  {
   "cell_type": "markdown",
   "metadata": {},
   "source": [
    "Ahora vamos a definir las funciones del modelo. \n",
    "- `linear` es la función de activación.\n",
    "- `forward` es la fase de estimación que le aplica la función de activación a la entrada multiplicada por el parámetro y suma el sesgo.\n",
    "- `backward` es la fase de ajuste del parámetro mediante el descenso del gradiente, que utiliza la tasa de aprendizaje `alpha` y el gradiente. El gradiente es la derivada de la función de error con respecto al parámetro, que en nuestro caso es la función de error cuadrático.\n",
    "- `error` es la función que calcula el error cuadratico entre el valor estimado y el valor observado en los datos."
   ]
  },
  {
   "cell_type": "code",
   "execution_count": 3,
   "metadata": {},
   "outputs": [],
   "source": [
    "def linear(x):\n",
    "    return x"
   ]
  },
  {
   "cell_type": "code",
   "execution_count": 4,
   "metadata": {},
   "outputs": [],
   "source": [
    "def forward(x, w, b):\n",
    "    yEst = linear(w*x + b)\n",
    "    return yEst"
   ]
  },
  {
   "cell_type": "code",
   "execution_count": 5,
   "metadata": {},
   "outputs": [],
   "source": [
    "def backward(w, dE_w):\n",
    "    return w - (alpha*dE_w)"
   ]
  },
  {
   "cell_type": "code",
   "execution_count": 6,
   "metadata": {},
   "outputs": [],
   "source": [
    "def error(yEst, y):\n",
    "    return np.power(yEst-y, 2)"
   ]
  },
  {
   "cell_type": "markdown",
   "metadata": {},
   "source": [
    "Ahora vamos a establecer los valores de las variables. En particular la condición de parada para el proceso de ajuste iterativo que es $10^{-20}$. Los valores iniciales de los parámetros son arbitrarios. Definimos la lista donde se almacenarán los valores durante el ajuste para graficar su evolución. Se define la variable que indica el número máximo de iteraciones que en este caso es `1000` y una variable de ayuda para almacenar el tamaño de los datos para recorrerlos en un ciclo."
   ]
  },
  {
   "cell_type": "code",
   "execution_count": 7,
   "metadata": {},
   "outputs": [],
   "source": [
    "stopAt = 1e-20\n",
    "\n",
    "w1 = 0.46\n",
    "b1 = 0.27\n",
    "\n",
    "w1List = [w1]\n",
    "b1List = [b1]\n",
    "errList = []\n",
    "\n",
    "numIter = 1000\n",
    "\n",
    "sizeOfData = np.size(xList)"
   ]
  },
  {
   "cell_type": "markdown",
   "metadata": {},
   "source": [
    "Este es el ciclo principal que se ejecuta a lo sumo `numIter` veces. Se define una variable `index` para saber cual valor de los datos tomar y cual valor observado tomar para evaluar el error. Se realizan varias operación es de impresión para dar una idea de cómo va la ejecución del programa y el avance dentro del ciclo.\n",
    "\n",
    "El proceso consiste en el ciclo siguiente:\n",
    "- Realizar el paso de estimación denominado `forward`.\n",
    "- Calcular el error cuadrático entre el valor estimado en la fase previa y el valor observado mediante la función `error`.\n",
    "- Calcular los gradientes que consiste en calcular la derivada de la función de error con respecto a `w1` y con respecto a `b1`.\n",
    "- Aplicar el paso de ajuste `backward`.\n",
    "- Almacenar los valores obtenidos para graficar los resultados."
   ]
  },
  {
   "cell_type": "code",
   "execution_count": 16,
   "metadata": {},
   "outputs": [],
   "source": [
    "echo=False\n",
    "for i in range(numIter):\n",
    "    \n",
    "    index = i%sizeOfData\n",
    "    x = xList[index]\n",
    "    y = yList[index]\n",
    "    \n",
    "    if echo:\n",
    "        # Imprimir valores\n",
    "        print('Iteración '+str(i+1)+str(' de ')+str(numIter))\n",
    "        print('Datos: x'+str(index)+':'+str(x)+', w1:'+str(w1)+', b1:'+str(b1))\n",
    "    \n",
    "    # Cálculo de y Estimado\n",
    "    yEst = forward(x, w1, b1)\n",
    "    if echo:\n",
    "        print('y:'+str(y)+', yEst:'+str(yEst))\n",
    "    \n",
    "    # Cálculo del Error\n",
    "    sse = error(yEst, y)\n",
    "    if echo:\n",
    "        print('error '+str(sse))\n",
    "    \n",
    "    # Cálculo de las derivadas parciales\n",
    "    dE_w1 = 2*(yEst-y)*x\n",
    "    dE_b1 = 2*(yEst-y)\n",
    "    if echo:\n",
    "        print('d3_w1:'+str(dE_w1)+', dE_b1:'+str(dE_b1))\n",
    "    \n",
    "    # Ajustando los parámetros w1 y b1\n",
    "    w1 = backward(w1, dE_w1)\n",
    "    b1 = backward(b1, dE_b1)\n",
    "    if echo:\n",
    "        print('After adjusting')\n",
    "        print('w1:'+str(w1)+', b1:'+str(b1))\n",
    "        print('')\n",
    "    \n",
    "    # Guardar valores\n",
    "    errList.append(sse)\n",
    "    w1List.append(w1)\n",
    "    b1List.append(b1)\n",
    "    \n",
    "    # Chequear condición de parada\n",
    "    if (sse<stopAt):\n",
    "        break"
   ]
  },
  {
   "cell_type": "markdown",
   "metadata": {},
   "source": [
    "Para chequer el resultado se dibuja cómo evoluciona el error durante el proceso de estimación y ajuste."
   ]
  },
  {
   "cell_type": "code",
   "execution_count": 17,
   "metadata": {},
   "outputs": [
    {
     "data": {
      "text/plain": [
       "<matplotlib.axes._subplots.AxesSubplot at 0x1192bc2d0>"
      ]
     },
     "execution_count": 17,
     "metadata": {},
     "output_type": "execute_result"
    },
    {
     "data": {
      "image/png": "[encoded data removed]",
      "text/plain": [
       "<Figure size 432x288 with 1 Axes>"
      ]
     },
     "metadata": {
      "needs_background": "light"
     },
     "output_type": "display_data"
    }
   ],
   "source": [
    "pd.DataFrame(errList, columns=['sse']).plot()"
   ]
  },
  {
   "cell_type": "markdown",
   "metadata": {},
   "source": [
    "Se dibuja cómo evoluciona el parámetro `w1`. Se puede ver que alrededor de la iteración 50 ya converge el proceso de aprendizaje."
   ]
  },
  {
   "cell_type": "code",
   "execution_count": 18,
   "metadata": {},
   "outputs": [
    {
     "data": {
      "text/plain": [
       "<matplotlib.axes._subplots.AxesSubplot at 0x11939e610>"
      ]
     },
     "execution_count": 18,
     "metadata": {},
     "output_type": "execute_result"
    },
    {
     "data": {
      "image/png": "[encoded data removed]",
      "text/plain": [
       "<Figure size 432x288 with 1 Axes>"
      ]
     },
     "metadata": {
      "needs_background": "light"
     },
     "output_type": "display_data"
    }
   ],
   "source": [
    "pd.DataFrame(w1List, columns=['w1']).plot()"
   ]
  },
  {
   "cell_type": "markdown",
   "metadata": {},
   "source": [
    "Se dibuja el gráfico de cómo evoluciona el ajuste del sesgo."
   ]
  },
  {
   "cell_type": "code",
   "execution_count": 19,
   "metadata": {
    "scrolled": true
   },
   "outputs": [
    {
     "data": {
      "text/plain": [
       "<matplotlib.axes._subplots.AxesSubplot at 0x119488d90>"
      ]
     },
     "execution_count": 19,
     "metadata": {},
     "output_type": "execute_result"
    },
    {
     "data": {
      "image/png": "[encoded data removed]",
      "text/plain": [
       "<Figure size 432x288 with 1 Axes>"
      ]
     },
     "metadata": {
      "needs_background": "light"
     },
     "output_type": "display_data"
    }
   ],
   "source": [
    "pd.DataFrame(b1List, columns=['b1']).plot()"
   ]
  },
  {
   "cell_type": "code",
   "execution_count": 20,
   "metadata": {},
   "outputs": [
    {
     "name": "stdout",
     "output_type": "stream",
     "text": [
      "(1.9999999997943871, -9.999999999022553)\n"
     ]
    }
   ],
   "source": [
    "print(w1, b1)"
   ]
  },
  {
   "cell_type": "markdown",
   "metadata": {},
   "source": [
    "Recordemos que los datos provienen de la función $f(x)=2x-10$ y los valores que se aprenden están cerca con un error de $10^{-20}$."
   ]
  },
  {
   "cell_type": "markdown",
   "metadata": {},
   "source": [
    "A continuación el código sin imprimir ni almacenar datos."
   ]
  },
  {
   "cell_type": "code",
   "execution_count": 21,
   "metadata": {},
   "outputs": [],
   "source": [
    "stopCond = 1e-20\n",
    "\n",
    "w1 = 0.46\n",
    "b1 = 0.27\n",
    "\n",
    "numIter = 1000\n",
    "\n",
    "sizeOfData = np.size(xList)\n",
    "\n",
    "for i in range(numIter):\n",
    "    # Variables\n",
    "    index = i%sizeOfData\n",
    "    x = xList[index]\n",
    "    y = yList[index]\n",
    "    \n",
    "    # Cálculo de y Estimado \n",
    "    yEst = forward(x, w1, b1)\n",
    "\n",
    "    # Cálculo del error\n",
    "    sse = error(yEst, y)\n",
    "\n",
    "    # Cálculo de las derivadas parciales del Error con \n",
    "    # respecto a los parámetros\n",
    "    dE_w1 = 2*(yEst-y)*x\n",
    "    dE_b1 = 2*(yEst-y)\n",
    "    \n",
    "    # Ajustando los parámetros w1 y b1\n",
    "    w1 = backward(w1, dE_w1)\n",
    "    b1 = backward(b1, dE_b1)\n",
    "    \n",
    "    # Chequear condición de parada\n",
    "    if (sse<stopCond):\n",
    "        break"
   ]
  },
  {
   "cell_type": "code",
   "execution_count": 22,
   "metadata": {},
   "outputs": [
    {
     "name": "stdout",
     "output_type": "stream",
     "text": [
      "(1.9999999995335829, -9.999999997782723)\n"
     ]
    }
   ],
   "source": [
    "print(w1, b1)"
   ]
  }
 ],
 "metadata": {
  "kernelspec": {
   "display_name": "Python 2",
   "language": "python",
   "name": "python2"
  },
  "language_info": {
   "codemirror_mode": {
    "name": "ipython",
    "version": 2
   },
   "file_extension": ".py",
   "mimetype": "text/x-python",
   "name": "python",
   "nbconvert_exporter": "python",
   "pygments_lexer": "ipython2",
   "version": "2.7.15"
  }
 },
 "nbformat": 4,
 "nbformat_minor": 2
}
